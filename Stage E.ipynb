{
 "cells": [
  {
   "cell_type": "code",
   "execution_count": 1,
   "id": "a52ecbbe",
   "metadata": {},
   "outputs": [],
   "source": [
    "import pandas as pd\n",
    "import numpy as np\n",
    "import matplotlib.pyplot as plt"
   ]
  },
  {
   "cell_type": "code",
   "execution_count": 2,
   "id": "9a65753c",
   "metadata": {},
   "outputs": [],
   "source": [
    "df=pd.read_csv('Time_series_analysis_and_forecast_DATASET.csv',parse_dates=[\"FullDate\"],index_col=\"FullDate\")"
   ]
  },
  {
   "cell_type": "code",
   "execution_count": 3,
   "id": "a9cfaeab",
   "metadata": {},
   "outputs": [
    {
     "data": {
      "text/plain": [
       "<bound method NDFrame.head of                      Tmax     SysLoad  GasPrice  ElecPrice\n",
       "FullDate                                                  \n",
       "2010-09-01 00:00:00  15.8  1688.21500    3.6900     23.710\n",
       "2010-09-01 01:00:00  15.8  1669.19500    3.6900     22.635\n",
       "2010-09-01 02:00:00  15.8  1491.98000    3.6900     22.565\n",
       "2010-09-01 03:00:00  15.8  1330.76000    3.6900     18.910\n",
       "2010-09-01 04:00:00  15.8  1247.94000    3.6900     18.030\n",
       "...                   ...         ...       ...        ...\n",
       "2021-02-28 19:00:00  24.3   449.63625    5.4848    117.925\n",
       "2021-02-28 20:00:00  24.3   815.59975    5.4848     87.880\n",
       "2021-02-28 21:00:00  24.3   745.12325    5.4848     62.060\n",
       "2021-02-28 22:00:00  24.3   694.95150    5.4848     62.000\n",
       "2021-02-28 23:00:00  24.3   714.69630    5.4848     62.955\n",
       "\n",
       "[92016 rows x 4 columns]>"
      ]
     },
     "execution_count": 3,
     "metadata": {},
     "output_type": "execute_result"
    }
   ],
   "source": [
    "df.head"
   ]
  },
  {
   "cell_type": "code",
   "execution_count": 4,
   "id": "0f4ebf15",
   "metadata": {},
   "outputs": [],
   "source": [
    "df2=df.resample('D').sum()"
   ]
  },
  {
   "cell_type": "code",
   "execution_count": 5,
   "id": "6f5a4821",
   "metadata": {},
   "outputs": [
    {
     "data": {
      "text/html": [
       "<div>\n",
       "<style scoped>\n",
       "    .dataframe tbody tr th:only-of-type {\n",
       "        vertical-align: middle;\n",
       "    }\n",
       "\n",
       "    .dataframe tbody tr th {\n",
       "        vertical-align: top;\n",
       "    }\n",
       "\n",
       "    .dataframe thead th {\n",
       "        text-align: right;\n",
       "    }\n",
       "</style>\n",
       "<table border=\"1\" class=\"dataframe\">\n",
       "  <thead>\n",
       "    <tr style=\"text-align: right;\">\n",
       "      <th></th>\n",
       "      <th>Tmax</th>\n",
       "      <th>SysLoad</th>\n",
       "      <th>GasPrice</th>\n",
       "      <th>ElecPrice</th>\n",
       "    </tr>\n",
       "    <tr>\n",
       "      <th>FullDate</th>\n",
       "      <th></th>\n",
       "      <th></th>\n",
       "      <th></th>\n",
       "      <th></th>\n",
       "    </tr>\n",
       "  </thead>\n",
       "  <tbody>\n",
       "    <tr>\n",
       "      <th>2021-02-23</th>\n",
       "      <td>549.6</td>\n",
       "      <td>-1699.79570</td>\n",
       "      <td>131.8944</td>\n",
       "      <td>211.985</td>\n",
       "    </tr>\n",
       "    <tr>\n",
       "      <th>2021-02-24</th>\n",
       "      <td>537.6</td>\n",
       "      <td>-1525.49745</td>\n",
       "      <td>134.4000</td>\n",
       "      <td>634.770</td>\n",
       "    </tr>\n",
       "    <tr>\n",
       "      <th>2021-02-25</th>\n",
       "      <td>518.4</td>\n",
       "      <td>4539.07855</td>\n",
       "      <td>130.5048</td>\n",
       "      <td>577.515</td>\n",
       "    </tr>\n",
       "    <tr>\n",
       "      <th>2021-02-26</th>\n",
       "      <td>547.2</td>\n",
       "      <td>9517.02430</td>\n",
       "      <td>130.1808</td>\n",
       "      <td>1445.495</td>\n",
       "    </tr>\n",
       "    <tr>\n",
       "      <th>2021-02-27</th>\n",
       "      <td>564.0</td>\n",
       "      <td>4932.88015</td>\n",
       "      <td>130.0800</td>\n",
       "      <td>488.980</td>\n",
       "    </tr>\n",
       "    <tr>\n",
       "      <th>2021-02-28</th>\n",
       "      <td>583.2</td>\n",
       "      <td>6675.05485</td>\n",
       "      <td>131.6352</td>\n",
       "      <td>-98.985</td>\n",
       "    </tr>\n",
       "  </tbody>\n",
       "</table>\n",
       "</div>"
      ],
      "text/plain": [
       "             Tmax     SysLoad  GasPrice  ElecPrice\n",
       "FullDate                                          \n",
       "2021-02-23  549.6 -1699.79570  131.8944    211.985\n",
       "2021-02-24  537.6 -1525.49745  134.4000    634.770\n",
       "2021-02-25  518.4  4539.07855  130.5048    577.515\n",
       "2021-02-26  547.2  9517.02430  130.1808   1445.495\n",
       "2021-02-27  564.0  4932.88015  130.0800    488.980\n",
       "2021-02-28  583.2  6675.05485  131.6352    -98.985"
      ]
     },
     "execution_count": 5,
     "metadata": {},
     "output_type": "execute_result"
    }
   ],
   "source": [
    "df2.tail(6)"
   ]
  },
  {
   "cell_type": "code",
   "execution_count": 6,
   "id": "c43c03ed",
   "metadata": {},
   "outputs": [],
   "source": [
    "df2copy=df2.reset_index(inplace=False)"
   ]
  },
  {
   "cell_type": "code",
   "execution_count": 7,
   "id": "ed6e0a4f",
   "metadata": {},
   "outputs": [
    {
     "data": {
      "image/png": "[encoded data removed]",
      "text/plain": [
       "<Figure size 640x480 with 1 Axes>"
      ]
     },
     "metadata": {},
     "output_type": "display_data"
    }
   ],
   "source": [
    "plt.plot(df2copy['FullDate'],df2copy['ElecPrice'])\n",
    "plt.show()"
   ]
  },
  {
   "cell_type": "code",
   "execution_count": 8,
   "id": "f8c0da96",
   "metadata": {},
   "outputs": [
    {
     "data": {
      "text/plain": [
       "(-2.9027666971651778,\n",
       " 0.045027212884625675,\n",
       " 27,\n",
       " 3806,\n",
       " {'1%': -3.4320693157877544,\n",
       "  '5%': -2.8622996992165364,\n",
       "  '10%': -2.5671743978048323},\n",
       " 32857.5394299048)"
      ]
     },
     "execution_count": 8,
     "metadata": {},
     "output_type": "execute_result"
    }
   ],
   "source": [
    "from statsmodels.tsa.stattools import adfuller\n",
    "\n",
    "#perform augmented Dickey-Fuller test\n",
    "adfuller(df2copy['GasPrice'])"
   ]
  },
  {
   "cell_type": "code",
   "execution_count": 9,
   "id": "d1cef462",
   "metadata": {},
   "outputs": [
    {
     "data": {
      "text/plain": [
       "(-3.6901589888366475,\n",
       " 0.004253725504574097,\n",
       " 30,\n",
       " 3803,\n",
       " {'1%': -3.432070672988693,\n",
       "  '5%': -2.8623002987378547,\n",
       "  '10%': -2.567174716967499},\n",
       " 79103.01504886392)"
      ]
     },
     "execution_count": 9,
     "metadata": {},
     "output_type": "execute_result"
    }
   ],
   "source": [
    "adfuller(df2copy['SysLoad'])"
   ]
  },
  {
   "cell_type": "code",
   "execution_count": 10,
   "id": "e7a46875",
   "metadata": {},
   "outputs": [],
   "source": [
    "trainrange=pd.date_range(start=\"2010-09-01\",freq='D',periods=2757)"
   ]
  },
  {
   "cell_type": "code",
   "execution_count": 11,
   "id": "8f0f1a35",
   "metadata": {},
   "outputs": [
    {
     "data": {
      "text/plain": [
       "DatetimeIndex(['2010-09-01', '2010-09-02', '2010-09-03', '2010-09-04',\n",
       "               '2010-09-05', '2010-09-06', '2010-09-07', '2010-09-08',\n",
       "               '2010-09-09', '2010-09-10',\n",
       "               ...\n",
       "               '2018-03-10', '2018-03-11', '2018-03-12', '2018-03-13',\n",
       "               '2018-03-14', '2018-03-15', '2018-03-16', '2018-03-17',\n",
       "               '2018-03-18', '2018-03-19'],\n",
       "              dtype='datetime64[ns]', length=2757, freq='D')"
      ]
     },
     "execution_count": 11,
     "metadata": {},
     "output_type": "execute_result"
    }
   ],
   "source": [
    "trainrange"
   ]
  },
  {
   "cell_type": "code",
   "execution_count": 12,
   "id": "8381d26c",
   "metadata": {},
   "outputs": [
    {
     "name": "stdout",
     "output_type": "stream",
     "text": [
      "1077\n"
     ]
    }
   ],
   "source": [
    "x=len(df2)-len(trainrange)\n",
    "print(x)"
   ]
  },
  {
   "cell_type": "code",
   "execution_count": 13,
   "id": "a1ade0ce",
   "metadata": {},
   "outputs": [],
   "source": [
    "testrange=pd.date_range(end=\"2021-02-28\",freq='D',periods=x)"
   ]
  },
  {
   "cell_type": "code",
   "execution_count": 14,
   "id": "b4977cbf",
   "metadata": {},
   "outputs": [
    {
     "data": {
      "text/plain": [
       "DatetimeIndex(['2018-03-20', '2018-03-21', '2018-03-22', '2018-03-23',\n",
       "               '2018-03-24', '2018-03-25', '2018-03-26', '2018-03-27',\n",
       "               '2018-03-28', '2018-03-29',\n",
       "               ...\n",
       "               '2021-02-19', '2021-02-20', '2021-02-21', '2021-02-22',\n",
       "               '2021-02-23', '2021-02-24', '2021-02-25', '2021-02-26',\n",
       "               '2021-02-27', '2021-02-28'],\n",
       "              dtype='datetime64[ns]', length=1077, freq='D')"
      ]
     },
     "execution_count": 14,
     "metadata": {},
     "output_type": "execute_result"
    }
   ],
   "source": [
    "testrange"
   ]
  },
  {
   "cell_type": "code",
   "execution_count": 15,
   "id": "da81cee0",
   "metadata": {},
   "outputs": [],
   "source": [
    "dftrain=df2.loc[trainrange]"
   ]
  },
  {
   "cell_type": "code",
   "execution_count": 16,
   "id": "831c57ea",
   "metadata": {},
   "outputs": [
    {
     "data": {
      "text/html": [
       "<div>\n",
       "<style scoped>\n",
       "    .dataframe tbody tr th:only-of-type {\n",
       "        vertical-align: middle;\n",
       "    }\n",
       "\n",
       "    .dataframe tbody tr th {\n",
       "        vertical-align: top;\n",
       "    }\n",
       "\n",
       "    .dataframe thead th {\n",
       "        text-align: right;\n",
       "    }\n",
       "</style>\n",
       "<table border=\"1\" class=\"dataframe\">\n",
       "  <thead>\n",
       "    <tr style=\"text-align: right;\">\n",
       "      <th></th>\n",
       "      <th>Tmax</th>\n",
       "      <th>SysLoad</th>\n",
       "      <th>GasPrice</th>\n",
       "      <th>ElecPrice</th>\n",
       "    </tr>\n",
       "  </thead>\n",
       "  <tbody>\n",
       "    <tr>\n",
       "      <th>2018-03-15</th>\n",
       "      <td>609.6</td>\n",
       "      <td>27139.02585</td>\n",
       "      <td>220.6272</td>\n",
       "      <td>2717.340</td>\n",
       "    </tr>\n",
       "    <tr>\n",
       "      <th>2018-03-16</th>\n",
       "      <td>648.0</td>\n",
       "      <td>19710.46400</td>\n",
       "      <td>216.9600</td>\n",
       "      <td>2277.335</td>\n",
       "    </tr>\n",
       "    <tr>\n",
       "      <th>2018-03-17</th>\n",
       "      <td>724.8</td>\n",
       "      <td>1079.34705</td>\n",
       "      <td>209.0400</td>\n",
       "      <td>1718.385</td>\n",
       "    </tr>\n",
       "    <tr>\n",
       "      <th>2018-03-18</th>\n",
       "      <td>508.8</td>\n",
       "      <td>-4102.43795</td>\n",
       "      <td>203.9880</td>\n",
       "      <td>1088.015</td>\n",
       "    </tr>\n",
       "    <tr>\n",
       "      <th>2018-03-19</th>\n",
       "      <td>561.6</td>\n",
       "      <td>8731.39945</td>\n",
       "      <td>199.2720</td>\n",
       "      <td>1998.305</td>\n",
       "    </tr>\n",
       "  </tbody>\n",
       "</table>\n",
       "</div>"
      ],
      "text/plain": [
       "             Tmax      SysLoad  GasPrice  ElecPrice\n",
       "2018-03-15  609.6  27139.02585  220.6272   2717.340\n",
       "2018-03-16  648.0  19710.46400  216.9600   2277.335\n",
       "2018-03-17  724.8   1079.34705  209.0400   1718.385\n",
       "2018-03-18  508.8  -4102.43795  203.9880   1088.015\n",
       "2018-03-19  561.6   8731.39945  199.2720   1998.305"
      ]
     },
     "execution_count": 16,
     "metadata": {},
     "output_type": "execute_result"
    }
   ],
   "source": [
    "dftrain.tail()"
   ]
  },
  {
   "cell_type": "code",
   "execution_count": 17,
   "id": "6b33508b",
   "metadata": {},
   "outputs": [],
   "source": [
    "dftest=df2.loc[testrange]"
   ]
  },
  {
   "cell_type": "code",
   "execution_count": 18,
   "id": "45ed009c",
   "metadata": {},
   "outputs": [
    {
     "data": {
      "text/html": [
       "<div>\n",
       "<style scoped>\n",
       "    .dataframe tbody tr th:only-of-type {\n",
       "        vertical-align: middle;\n",
       "    }\n",
       "\n",
       "    .dataframe tbody tr th {\n",
       "        vertical-align: top;\n",
       "    }\n",
       "\n",
       "    .dataframe thead th {\n",
       "        text-align: right;\n",
       "    }\n",
       "</style>\n",
       "<table border=\"1\" class=\"dataframe\">\n",
       "  <thead>\n",
       "    <tr style=\"text-align: right;\">\n",
       "      <th></th>\n",
       "      <th>Tmax</th>\n",
       "      <th>SysLoad</th>\n",
       "      <th>GasPrice</th>\n",
       "      <th>ElecPrice</th>\n",
       "    </tr>\n",
       "  </thead>\n",
       "  <tbody>\n",
       "    <tr>\n",
       "      <th>2018-03-20</th>\n",
       "      <td>540.0</td>\n",
       "      <td>7696.91130</td>\n",
       "      <td>201.5880</td>\n",
       "      <td>1833.00</td>\n",
       "    </tr>\n",
       "    <tr>\n",
       "      <th>2018-03-21</th>\n",
       "      <td>571.2</td>\n",
       "      <td>4658.05865</td>\n",
       "      <td>203.2560</td>\n",
       "      <td>1730.49</td>\n",
       "    </tr>\n",
       "    <tr>\n",
       "      <th>2018-03-22</th>\n",
       "      <td>722.4</td>\n",
       "      <td>19161.78525</td>\n",
       "      <td>203.2560</td>\n",
       "      <td>2260.55</td>\n",
       "    </tr>\n",
       "    <tr>\n",
       "      <th>2018-03-23</th>\n",
       "      <td>811.2</td>\n",
       "      <td>18090.43435</td>\n",
       "      <td>198.6456</td>\n",
       "      <td>2138.76</td>\n",
       "    </tr>\n",
       "    <tr>\n",
       "      <th>2018-03-24</th>\n",
       "      <td>832.8</td>\n",
       "      <td>3763.53865</td>\n",
       "      <td>180.2160</td>\n",
       "      <td>1721.70</td>\n",
       "    </tr>\n",
       "  </tbody>\n",
       "</table>\n",
       "</div>"
      ],
      "text/plain": [
       "             Tmax      SysLoad  GasPrice  ElecPrice\n",
       "2018-03-20  540.0   7696.91130  201.5880    1833.00\n",
       "2018-03-21  571.2   4658.05865  203.2560    1730.49\n",
       "2018-03-22  722.4  19161.78525  203.2560    2260.55\n",
       "2018-03-23  811.2  18090.43435  198.6456    2138.76\n",
       "2018-03-24  832.8   3763.53865  180.2160    1721.70"
      ]
     },
     "execution_count": 18,
     "metadata": {},
     "output_type": "execute_result"
    }
   ],
   "source": [
    "dftest.head()"
   ]
  },
  {
   "cell_type": "code",
   "execution_count": 19,
   "id": "eaddeca0",
   "metadata": {},
   "outputs": [
    {
     "data": {
      "text/html": [
       "<div>\n",
       "<style scoped>\n",
       "    .dataframe tbody tr th:only-of-type {\n",
       "        vertical-align: middle;\n",
       "    }\n",
       "\n",
       "    .dataframe tbody tr th {\n",
       "        vertical-align: top;\n",
       "    }\n",
       "\n",
       "    .dataframe thead th {\n",
       "        text-align: right;\n",
       "    }\n",
       "</style>\n",
       "<table border=\"1\" class=\"dataframe\">\n",
       "  <thead>\n",
       "    <tr style=\"text-align: right;\">\n",
       "      <th></th>\n",
       "      <th>ds</th>\n",
       "      <th>y</th>\n",
       "    </tr>\n",
       "  </thead>\n",
       "  <tbody>\n",
       "    <tr>\n",
       "      <th>0</th>\n",
       "      <td>2010-09-01</td>\n",
       "      <td>2751.700</td>\n",
       "    </tr>\n",
       "    <tr>\n",
       "      <th>1</th>\n",
       "      <td>2010-09-02</td>\n",
       "      <td>570.810</td>\n",
       "    </tr>\n",
       "    <tr>\n",
       "      <th>2</th>\n",
       "      <td>2010-09-03</td>\n",
       "      <td>504.975</td>\n",
       "    </tr>\n",
       "    <tr>\n",
       "      <th>3</th>\n",
       "      <td>2010-09-04</td>\n",
       "      <td>502.275</td>\n",
       "    </tr>\n",
       "    <tr>\n",
       "      <th>4</th>\n",
       "      <td>2010-09-05</td>\n",
       "      <td>500.555</td>\n",
       "    </tr>\n",
       "  </tbody>\n",
       "</table>\n",
       "</div>"
      ],
      "text/plain": [
       "          ds         y\n",
       "0 2010-09-01  2751.700\n",
       "1 2010-09-02   570.810\n",
       "2 2010-09-03   504.975\n",
       "3 2010-09-04   502.275\n",
       "4 2010-09-05   500.555"
      ]
     },
     "execution_count": 19,
     "metadata": {},
     "output_type": "execute_result"
    }
   ],
   "source": [
    "dfp=dftrain[['ElecPrice']]\n",
    "dfp.reset_index(inplace=True)\n",
    "#dfp['index'] = pd.DatetimeIndex(dfp['index'])\n",
    "dfp = dfp.rename(columns = {'index':'ds','ElecPrice': 'y'})\n",
    "dfp.head()"
   ]
  },
  {
   "cell_type": "code",
   "execution_count": 20,
   "id": "8d0de81b",
   "metadata": {},
   "outputs": [
    {
     "name": "stderr",
     "output_type": "stream",
     "text": [
      "INFO:prophet:Disabling daily seasonality. Run prophet with daily_seasonality=True to override this.\n",
      "INFO:cmdstanpy:start chain 1\n",
      "INFO:cmdstanpy:finish chain 1\n"
     ]
    },
    {
     "data": {
      "text/plain": [
       "<prophet.forecaster.Prophet at 0x1a412397ca0>"
      ]
     },
     "execution_count": 20,
     "metadata": {},
     "output_type": "execute_result"
    }
   ],
   "source": [
    "from prophet import Prophet\n",
    "m = Prophet()\n",
    "m.fit(dfp)"
   ]
  },
  {
   "cell_type": "code",
   "execution_count": 21,
   "id": "6fe673bd",
   "metadata": {},
   "outputs": [
    {
     "data": {
      "text/html": [
       "<div>\n",
       "<style scoped>\n",
       "    .dataframe tbody tr th:only-of-type {\n",
       "        vertical-align: middle;\n",
       "    }\n",
       "\n",
       "    .dataframe tbody tr th {\n",
       "        vertical-align: top;\n",
       "    }\n",
       "\n",
       "    .dataframe thead th {\n",
       "        text-align: right;\n",
       "    }\n",
       "</style>\n",
       "<table border=\"1\" class=\"dataframe\">\n",
       "  <thead>\n",
       "    <tr style=\"text-align: right;\">\n",
       "      <th></th>\n",
       "      <th>ds</th>\n",
       "    </tr>\n",
       "  </thead>\n",
       "  <tbody>\n",
       "    <tr>\n",
       "      <th>3829</th>\n",
       "      <td>2021-02-24</td>\n",
       "    </tr>\n",
       "    <tr>\n",
       "      <th>3830</th>\n",
       "      <td>2021-02-25</td>\n",
       "    </tr>\n",
       "    <tr>\n",
       "      <th>3831</th>\n",
       "      <td>2021-02-26</td>\n",
       "    </tr>\n",
       "    <tr>\n",
       "      <th>3832</th>\n",
       "      <td>2021-02-27</td>\n",
       "    </tr>\n",
       "    <tr>\n",
       "      <th>3833</th>\n",
       "      <td>2021-02-28</td>\n",
       "    </tr>\n",
       "  </tbody>\n",
       "</table>\n",
       "</div>"
      ],
      "text/plain": [
       "             ds\n",
       "3829 2021-02-24\n",
       "3830 2021-02-25\n",
       "3831 2021-02-26\n",
       "3832 2021-02-27\n",
       "3833 2021-02-28"
      ]
     },
     "execution_count": 21,
     "metadata": {},
     "output_type": "execute_result"
    }
   ],
   "source": [
    "future_dates = m.make_future_dataframe(periods=x, freq='D')\n",
    "future_dates.tail()"
   ]
  },
  {
   "cell_type": "code",
   "execution_count": 22,
   "id": "f3d375d7",
   "metadata": {},
   "outputs": [
    {
     "data": {
      "text/html": [
       "<div>\n",
       "<style scoped>\n",
       "    .dataframe tbody tr th:only-of-type {\n",
       "        vertical-align: middle;\n",
       "    }\n",
       "\n",
       "    .dataframe tbody tr th {\n",
       "        vertical-align: top;\n",
       "    }\n",
       "\n",
       "    .dataframe thead th {\n",
       "        text-align: right;\n",
       "    }\n",
       "</style>\n",
       "<table border=\"1\" class=\"dataframe\">\n",
       "  <thead>\n",
       "    <tr style=\"text-align: right;\">\n",
       "      <th></th>\n",
       "      <th>ds</th>\n",
       "      <th>yhat</th>\n",
       "      <th>yhat_lower</th>\n",
       "      <th>yhat_upper</th>\n",
       "    </tr>\n",
       "  </thead>\n",
       "  <tbody>\n",
       "    <tr>\n",
       "      <th>0</th>\n",
       "      <td>2010-09-01</td>\n",
       "      <td>994.279309</td>\n",
       "      <td>-1447.387695</td>\n",
       "      <td>3366.563421</td>\n",
       "    </tr>\n",
       "    <tr>\n",
       "      <th>1</th>\n",
       "      <td>2010-09-02</td>\n",
       "      <td>1074.514366</td>\n",
       "      <td>-1313.492208</td>\n",
       "      <td>3424.732931</td>\n",
       "    </tr>\n",
       "    <tr>\n",
       "      <th>2</th>\n",
       "      <td>2010-09-03</td>\n",
       "      <td>849.411920</td>\n",
       "      <td>-1420.710930</td>\n",
       "      <td>3164.849079</td>\n",
       "    </tr>\n",
       "    <tr>\n",
       "      <th>3</th>\n",
       "      <td>2010-09-04</td>\n",
       "      <td>509.021391</td>\n",
       "      <td>-1706.752655</td>\n",
       "      <td>2772.459201</td>\n",
       "    </tr>\n",
       "    <tr>\n",
       "      <th>4</th>\n",
       "      <td>2010-09-05</td>\n",
       "      <td>418.981135</td>\n",
       "      <td>-1779.279859</td>\n",
       "      <td>2962.994199</td>\n",
       "    </tr>\n",
       "  </tbody>\n",
       "</table>\n",
       "</div>"
      ],
      "text/plain": [
       "          ds         yhat   yhat_lower   yhat_upper\n",
       "0 2010-09-01   994.279309 -1447.387695  3366.563421\n",
       "1 2010-09-02  1074.514366 -1313.492208  3424.732931\n",
       "2 2010-09-03   849.411920 -1420.710930  3164.849079\n",
       "3 2010-09-04   509.021391 -1706.752655  2772.459201\n",
       "4 2010-09-05   418.981135 -1779.279859  2962.994199"
      ]
     },
     "execution_count": 22,
     "metadata": {},
     "output_type": "execute_result"
    }
   ],
   "source": [
    "forecast = m.predict(future_dates)\n",
    "forecast[['ds', 'yhat', 'yhat_lower', 'yhat_upper']].head()"
   ]
  },
  {
   "cell_type": "code",
   "execution_count": 23,
   "id": "f5377489",
   "metadata": {},
   "outputs": [
    {
     "name": "stdout",
     "output_type": "stream",
     "text": [
      "MAE: 1732.973\n"
     ]
    }
   ],
   "source": [
    "from sklearn.metrics import mean_absolute_error\n",
    "y_true = dftest['ElecPrice']\n",
    "y_pred = forecast['yhat'].iloc[2757:]\n",
    "mae = mean_absolute_error(y_true, y_pred)\n",
    "print('MAE: %.3f' % mae)"
   ]
  },
  {
   "cell_type": "code",
   "execution_count": 24,
   "id": "fb6e009d",
   "metadata": {},
   "outputs": [
    {
     "name": "stdout",
     "output_type": "stream",
     "text": [
      "RMSE: 3208.69\n"
     ]
    }
   ],
   "source": [
    "from sklearn.metrics import mean_squared_error\n",
    "import math\n",
    "mse = mean_squared_error(y_true, y_pred)\n",
    "rmse = math.sqrt(mse)\n",
    "print('RMSE: %.2f' %rmse)\n",
    "#2 decimal"
   ]
  },
  {
   "cell_type": "code",
   "execution_count": 25,
   "id": "f469a9e9",
   "metadata": {},
   "outputs": [
    {
     "name": "stdout",
     "output_type": "stream",
     "text": [
      "MAPE: 544.9453\n"
     ]
    }
   ],
   "source": [
    "from sklearn.metrics import mean_absolute_percentage_error\n",
    "mape=mean_absolute_percentage_error(y_true, y_pred)\n",
    "mape=mape*100\n",
    "print('MAPE: %.4f' % mape)"
   ]
  },
  {
   "cell_type": "code",
   "execution_count": 26,
   "id": "0cdcb272",
   "metadata": {},
   "outputs": [
    {
     "data": {
      "text/plain": [
       "[<matplotlib.lines.Line2D at 0x1a41bf74880>]"
      ]
     },
     "execution_count": 26,
     "metadata": {},
     "output_type": "execute_result"
    },
    {
     "data": {
      "image/png": "[encoded data removed]",
      "text/plain": [
       "<Figure size 640x480 with 1 Axes>"
      ]
     },
     "metadata": {},
     "output_type": "display_data"
    }
   ],
   "source": [
    "plt.plot(forecast['ds'],forecast['yhat'])"
   ]
  },
  {
   "cell_type": "code",
   "execution_count": 27,
   "id": "2958f6c0",
   "metadata": {},
   "outputs": [],
   "source": [
    "dftrain.reset_index(inplace=True)\n",
    "dfp[\"add1\"]=dftrain[['SysLoad']]\n",
    "dfp[\"add2\"]=dftrain[['Tmax']]\n",
    "dfp[\"add3\"]=dftrain[['GasPrice']]"
   ]
  },
  {
   "cell_type": "code",
   "execution_count": 28,
   "id": "96200a27",
   "metadata": {},
   "outputs": [
    {
     "data": {
      "text/html": [
       "<div>\n",
       "<style scoped>\n",
       "    .dataframe tbody tr th:only-of-type {\n",
       "        vertical-align: middle;\n",
       "    }\n",
       "\n",
       "    .dataframe tbody tr th {\n",
       "        vertical-align: top;\n",
       "    }\n",
       "\n",
       "    .dataframe thead th {\n",
       "        text-align: right;\n",
       "    }\n",
       "</style>\n",
       "<table border=\"1\" class=\"dataframe\">\n",
       "  <thead>\n",
       "    <tr style=\"text-align: right;\">\n",
       "      <th></th>\n",
       "      <th>ds</th>\n",
       "      <th>y</th>\n",
       "      <th>add1</th>\n",
       "      <th>add2</th>\n",
       "      <th>add3</th>\n",
       "    </tr>\n",
       "  </thead>\n",
       "  <tbody>\n",
       "    <tr>\n",
       "      <th>0</th>\n",
       "      <td>2010-09-01</td>\n",
       "      <td>2751.700</td>\n",
       "      <td>41565.380</td>\n",
       "      <td>379.2</td>\n",
       "      <td>88.56</td>\n",
       "    </tr>\n",
       "    <tr>\n",
       "      <th>1</th>\n",
       "      <td>2010-09-02</td>\n",
       "      <td>570.810</td>\n",
       "      <td>38898.990</td>\n",
       "      <td>369.6</td>\n",
       "      <td>88.56</td>\n",
       "    </tr>\n",
       "    <tr>\n",
       "      <th>2</th>\n",
       "      <td>2010-09-03</td>\n",
       "      <td>504.975</td>\n",
       "      <td>41665.760</td>\n",
       "      <td>439.2</td>\n",
       "      <td>106.80</td>\n",
       "    </tr>\n",
       "    <tr>\n",
       "      <th>3</th>\n",
       "      <td>2010-09-04</td>\n",
       "      <td>502.275</td>\n",
       "      <td>35638.085</td>\n",
       "      <td>328.8</td>\n",
       "      <td>81.36</td>\n",
       "    </tr>\n",
       "    <tr>\n",
       "      <th>4</th>\n",
       "      <td>2010-09-05</td>\n",
       "      <td>500.555</td>\n",
       "      <td>35611.410</td>\n",
       "      <td>357.6</td>\n",
       "      <td>106.80</td>\n",
       "    </tr>\n",
       "  </tbody>\n",
       "</table>\n",
       "</div>"
      ],
      "text/plain": [
       "          ds         y       add1   add2    add3\n",
       "0 2010-09-01  2751.700  41565.380  379.2   88.56\n",
       "1 2010-09-02   570.810  38898.990  369.6   88.56\n",
       "2 2010-09-03   504.975  41665.760  439.2  106.80\n",
       "3 2010-09-04   502.275  35638.085  328.8   81.36\n",
       "4 2010-09-05   500.555  35611.410  357.6  106.80"
      ]
     },
     "execution_count": 28,
     "metadata": {},
     "output_type": "execute_result"
    }
   ],
   "source": [
    "dfp.head()"
   ]
  },
  {
   "cell_type": "code",
   "execution_count": 29,
   "id": "5eb44f77",
   "metadata": {},
   "outputs": [
    {
     "name": "stderr",
     "output_type": "stream",
     "text": [
      "INFO:prophet:Disabling daily seasonality. Run prophet with daily_seasonality=True to override this.\n",
      "INFO:cmdstanpy:start chain 1\n",
      "INFO:cmdstanpy:finish chain 1\n"
     ]
    },
    {
     "data": {
      "text/plain": [
       "<prophet.forecaster.Prophet at 0x1a41c5bba00>"
      ]
     },
     "execution_count": 29,
     "metadata": {},
     "output_type": "execute_result"
    }
   ],
   "source": [
    "m2 = Prophet()\n",
    "m2.add_regressor(\"add1\")\n",
    "m2.add_regressor(\"add2\")\n",
    "m2.add_regressor(\"add3\")\n",
    "m2.fit(dfp)"
   ]
  },
  {
   "cell_type": "code",
   "execution_count": 30,
   "id": "22cfaa9d",
   "metadata": {},
   "outputs": [
    {
     "data": {
      "text/html": [
       "<div>\n",
       "<style scoped>\n",
       "    .dataframe tbody tr th:only-of-type {\n",
       "        vertical-align: middle;\n",
       "    }\n",
       "\n",
       "    .dataframe tbody tr th {\n",
       "        vertical-align: top;\n",
       "    }\n",
       "\n",
       "    .dataframe thead th {\n",
       "        text-align: right;\n",
       "    }\n",
       "</style>\n",
       "<table border=\"1\" class=\"dataframe\">\n",
       "  <thead>\n",
       "    <tr style=\"text-align: right;\">\n",
       "      <th></th>\n",
       "      <th>ds</th>\n",
       "    </tr>\n",
       "  </thead>\n",
       "  <tbody>\n",
       "    <tr>\n",
       "      <th>3829</th>\n",
       "      <td>2021-02-24</td>\n",
       "    </tr>\n",
       "    <tr>\n",
       "      <th>3830</th>\n",
       "      <td>2021-02-25</td>\n",
       "    </tr>\n",
       "    <tr>\n",
       "      <th>3831</th>\n",
       "      <td>2021-02-26</td>\n",
       "    </tr>\n",
       "    <tr>\n",
       "      <th>3832</th>\n",
       "      <td>2021-02-27</td>\n",
       "    </tr>\n",
       "    <tr>\n",
       "      <th>3833</th>\n",
       "      <td>2021-02-28</td>\n",
       "    </tr>\n",
       "  </tbody>\n",
       "</table>\n",
       "</div>"
      ],
      "text/plain": [
       "             ds\n",
       "3829 2021-02-24\n",
       "3830 2021-02-25\n",
       "3831 2021-02-26\n",
       "3832 2021-02-27\n",
       "3833 2021-02-28"
      ]
     },
     "execution_count": 30,
     "metadata": {},
     "output_type": "execute_result"
    }
   ],
   "source": [
    "future_dates2 = m2.make_future_dataframe(periods=x, freq='D')\n",
    "future_dates2.tail()"
   ]
  },
  {
   "cell_type": "code",
   "execution_count": 35,
   "id": "d5ecc294",
   "metadata": {},
   "outputs": [
    {
     "ename": "ValueError",
     "evalue": "Regressor 'add1' missing from dataframe",
     "output_type": "error",
     "traceback": [
      "\u001b[1;31m---------------------------------------------------------------------------\u001b[0m",
      "\u001b[1;31mValueError\u001b[0m                                Traceback (most recent call last)",
      "\u001b[1;32m~\\AppData\\Local\\Temp\\ipykernel_4024\\3796518945.py\u001b[0m in \u001b[0;36m<module>\u001b[1;34m\u001b[0m\n\u001b[1;32m----> 1\u001b[1;33m \u001b[0mforecast2\u001b[0m \u001b[1;33m=\u001b[0m \u001b[0mm2\u001b[0m\u001b[1;33m.\u001b[0m\u001b[0mpredict\u001b[0m\u001b[1;33m(\u001b[0m\u001b[0mfuture_dates2\u001b[0m\u001b[1;33m)\u001b[0m\u001b[1;33m\u001b[0m\u001b[1;33m\u001b[0m\u001b[0m\n\u001b[0m\u001b[0;32m      2\u001b[0m \u001b[1;31m#forecast2[['ds','add1','add2','add3', 'yhat', 'yhat_lower', 'yhat_upper']].head()\u001b[0m\u001b[1;33m\u001b[0m\u001b[1;33m\u001b[0m\u001b[0m\n",
      "\u001b[1;32mC:\\ProgramData\\Anaconda3\\lib\\site-packages\\prophet\\forecaster.py\u001b[0m in \u001b[0;36mpredict\u001b[1;34m(self, df, vectorized)\u001b[0m\n\u001b[0;32m   1217\u001b[0m             \u001b[1;32mif\u001b[0m \u001b[0mdf\u001b[0m\u001b[1;33m.\u001b[0m\u001b[0mshape\u001b[0m\u001b[1;33m[\u001b[0m\u001b[1;36m0\u001b[0m\u001b[1;33m]\u001b[0m \u001b[1;33m==\u001b[0m \u001b[1;36m0\u001b[0m\u001b[1;33m:\u001b[0m\u001b[1;33m\u001b[0m\u001b[1;33m\u001b[0m\u001b[0m\n\u001b[0;32m   1218\u001b[0m                 \u001b[1;32mraise\u001b[0m \u001b[0mValueError\u001b[0m\u001b[1;33m(\u001b[0m\u001b[1;34m'Dataframe has no rows.'\u001b[0m\u001b[1;33m)\u001b[0m\u001b[1;33m\u001b[0m\u001b[1;33m\u001b[0m\u001b[0m\n\u001b[1;32m-> 1219\u001b[1;33m             \u001b[0mdf\u001b[0m \u001b[1;33m=\u001b[0m \u001b[0mself\u001b[0m\u001b[1;33m.\u001b[0m\u001b[0msetup_dataframe\u001b[0m\u001b[1;33m(\u001b[0m\u001b[0mdf\u001b[0m\u001b[1;33m.\u001b[0m\u001b[0mcopy\u001b[0m\u001b[1;33m(\u001b[0m\u001b[1;33m)\u001b[0m\u001b[1;33m)\u001b[0m\u001b[1;33m\u001b[0m\u001b[1;33m\u001b[0m\u001b[0m\n\u001b[0m\u001b[0;32m   1220\u001b[0m \u001b[1;33m\u001b[0m\u001b[0m\n\u001b[0;32m   1221\u001b[0m         \u001b[0mdf\u001b[0m\u001b[1;33m[\u001b[0m\u001b[1;34m'trend'\u001b[0m\u001b[1;33m]\u001b[0m \u001b[1;33m=\u001b[0m \u001b[0mself\u001b[0m\u001b[1;33m.\u001b[0m\u001b[0mpredict_trend\u001b[0m\u001b[1;33m(\u001b[0m\u001b[0mdf\u001b[0m\u001b[1;33m)\u001b[0m\u001b[1;33m\u001b[0m\u001b[1;33m\u001b[0m\u001b[0m\n",
      "\u001b[1;32mC:\\ProgramData\\Anaconda3\\lib\\site-packages\\prophet\\forecaster.py\u001b[0m in \u001b[0;36msetup_dataframe\u001b[1;34m(self, df, initialize_scales)\u001b[0m\n\u001b[0;32m    279\u001b[0m         \u001b[1;32mfor\u001b[0m \u001b[0mname\u001b[0m \u001b[1;32min\u001b[0m \u001b[0mself\u001b[0m\u001b[1;33m.\u001b[0m\u001b[0mextra_regressors\u001b[0m\u001b[1;33m:\u001b[0m\u001b[1;33m\u001b[0m\u001b[1;33m\u001b[0m\u001b[0m\n\u001b[0;32m    280\u001b[0m             \u001b[1;32mif\u001b[0m \u001b[0mname\u001b[0m \u001b[1;32mnot\u001b[0m \u001b[1;32min\u001b[0m \u001b[0mdf\u001b[0m\u001b[1;33m:\u001b[0m\u001b[1;33m\u001b[0m\u001b[1;33m\u001b[0m\u001b[0m\n\u001b[1;32m--> 281\u001b[1;33m                 raise ValueError(\n\u001b[0m\u001b[0;32m    282\u001b[0m                     \u001b[1;34m'Regressor {name!r} missing from dataframe'\u001b[0m\u001b[1;33m\u001b[0m\u001b[1;33m\u001b[0m\u001b[0m\n\u001b[0;32m    283\u001b[0m                     \u001b[1;33m.\u001b[0m\u001b[0mformat\u001b[0m\u001b[1;33m(\u001b[0m\u001b[0mname\u001b[0m\u001b[1;33m=\u001b[0m\u001b[0mname\u001b[0m\u001b[1;33m)\u001b[0m\u001b[1;33m\u001b[0m\u001b[1;33m\u001b[0m\u001b[0m\n",
      "\u001b[1;31mValueError\u001b[0m: Regressor 'add1' missing from dataframe"
     ]
    }
   ],
   "source": [
    "forecast2 = m2.predict(future_dates2)\n",
    "#forecast2[['ds','add1','add2','add3', 'yhat', 'yhat_lower', 'yhat_upper']].head()"
   ]
  },
  {
   "cell_type": "code",
   "execution_count": 34,
   "id": "842ff0a7",
   "metadata": {},
   "outputs": [
    {
     "ename": "NameError",
     "evalue": "name 'forecast2' is not defined",
     "output_type": "error",
     "traceback": [
      "\u001b[1;31m---------------------------------------------------------------------------\u001b[0m",
      "\u001b[1;31mNameError\u001b[0m                                 Traceback (most recent call last)",
      "\u001b[1;32m~\\AppData\\Local\\Temp\\ipykernel_4024\\1388604848.py\u001b[0m in \u001b[0;36m<module>\u001b[1;34m\u001b[0m\n\u001b[0;32m      1\u001b[0m \u001b[0my_true2\u001b[0m \u001b[1;33m=\u001b[0m \u001b[0mdftest\u001b[0m\u001b[1;33m[\u001b[0m\u001b[1;34m'ElecPrice'\u001b[0m\u001b[1;33m]\u001b[0m\u001b[1;33m\u001b[0m\u001b[1;33m\u001b[0m\u001b[0m\n\u001b[1;32m----> 2\u001b[1;33m \u001b[0my_pred2\u001b[0m \u001b[1;33m=\u001b[0m \u001b[0mforecast2\u001b[0m\u001b[1;33m[\u001b[0m\u001b[1;34m'yhat'\u001b[0m\u001b[1;33m]\u001b[0m\u001b[1;33m.\u001b[0m\u001b[0miloc\u001b[0m\u001b[1;33m[\u001b[0m\u001b[1;36m2757\u001b[0m\u001b[1;33m:\u001b[0m\u001b[1;33m]\u001b[0m\u001b[1;33m\u001b[0m\u001b[1;33m\u001b[0m\u001b[0m\n\u001b[0m\u001b[0;32m      3\u001b[0m \u001b[0mmae2\u001b[0m \u001b[1;33m=\u001b[0m \u001b[0mmean_absolute_error\u001b[0m\u001b[1;33m(\u001b[0m\u001b[0my_true2\u001b[0m\u001b[1;33m,\u001b[0m \u001b[0my_pred2\u001b[0m\u001b[1;33m)\u001b[0m\u001b[1;33m\u001b[0m\u001b[1;33m\u001b[0m\u001b[0m\n\u001b[0;32m      4\u001b[0m \u001b[0mprint\u001b[0m\u001b[1;33m(\u001b[0m\u001b[1;34m'MAE: %.3f'\u001b[0m \u001b[1;33m%\u001b[0m \u001b[0mmae2\u001b[0m\u001b[1;33m)\u001b[0m\u001b[1;33m\u001b[0m\u001b[1;33m\u001b[0m\u001b[0m\n",
      "\u001b[1;31mNameError\u001b[0m: name 'forecast2' is not defined"
     ]
    }
   ],
   "source": [
    "y_true2 = dftest['ElecPrice']\n",
    "y_pred2 = forecast2['yhat'].iloc[2757:]\n",
    "mae2 = mean_absolute_error(y_true2, y_pred2)\n",
    "print('MAE: %.3f' % mae2)"
   ]
  },
  {
   "cell_type": "code",
   "execution_count": null,
   "id": "b8102df9",
   "metadata": {},
   "outputs": [],
   "source": [
    "mape2=mean_absolute_percentage_error(y_true2, y_pred2)\n",
    "mape2=mape2*100\n",
    "print('MAPE2: %.4f' % mape2)"
   ]
  },
  {
   "cell_type": "code",
   "execution_count": null,
   "id": "1688ef2a",
   "metadata": {},
   "outputs": [],
   "source": [
    "mse = mean_squared_error(y_true2, y_pred2)\n",
    "rmse = math.sqrt(mse)\n",
    "print('RMSE: %.2f' %rmse)"
   ]
  },
  {
   "cell_type": "code",
   "execution_count": null,
   "id": "019c2057",
   "metadata": {},
   "outputs": [],
   "source": []
  }
 ],
 "metadata": {
  "kernelspec": {
   "display_name": "Python 3 (ipykernel)",
   "language": "python",
   "name": "python3"
  },
  "language_info": {
   "codemirror_mode": {
    "name": "ipython",
    "version": 3
   },
   "file_extension": ".py",
   "mimetype": "text/x-python",
   "name": "python",
   "nbconvert_exporter": "python",
   "pygments_lexer": "ipython3",
   "version": "3.9.13"
  }
 },
 "nbformat": 4,
 "nbformat_minor": 5
}
